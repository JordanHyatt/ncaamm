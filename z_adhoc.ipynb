{
 "cells": [
  {
   "cell_type": "code",
   "execution_count": 1,
   "metadata": {},
   "outputs": [],
   "source": [
    "import django_init\n",
    "import pandas as pd\n",
    "from django.conf import settings\n",
    "import os\n",
    "os.environ[\"DJANGO_ALLOW_ASYNC_UNSAFE\"] = \"true\"\n",
    "\n",
    "from main.models import *"
   ]
  },
  {
   "cell_type": "code",
   "execution_count": 3,
   "metadata": {},
   "outputs": [
    {
     "name": "stderr",
     "output_type": "stream",
     "text": [
      "465it [00:00, 911.77it/s]\n",
      "51it [00:00, 894.71it/s]\n",
      "372it [00:00, 839.73it/s]\n",
      "38it [00:00, 655.16it/s]\n",
      "14it [00:00, 874.89it/s]\n"
     ]
    },
    {
     "data": {
      "text/plain": [
       "<QuerySet [<GameStat: Score | Score>, <GameStat: FGM | Field Goals Made>, <GameStat: FGA | Field Goals Attempted>, <GameStat: FGM3 | 3-Pt Field Goals Made>, <GameStat: FGA3 | 3-Pt Field Goals Attempted>, <GameStat: FTM | Free Throws Made>, <GameStat: FTA | Free Trows Attempted>, <GameStat: OR | Offensive Rebounds>, <GameStat: DR | Deffensive Rebounds>, <GameStat: Ast | Assists>, <GameStat: TO | Turn Overs>, <GameStat: Stl | Steals>, <GameStat: Blk | Blocks>, <GameStat: PF | Personal Fouls>]>"
      ]
     },
     "execution_count": 3,
     "metadata": {},
     "output_type": "execute_result"
    }
   ],
   "source": [
    "City.update_objs()\n",
    "Conference.update_objs()\n",
    "Team.update_objs()\n",
    "Season.update_objs()\n",
    "GameStat.update_objs()\n",
    "TeamCoach.update_objs()\n",
    "TeamConference.update_objs()\n",
    "TeamRank.update_objs()\n",
    "Game.update_objs()\n",
    "\n"
   ]
  },
  {
   "cell_type": "code",
   "execution_count": null,
   "metadata": {},
   "outputs": [],
   "source": [
    "TeamCoach.objects.all()"
   ]
  },
  {
   "cell_type": "code",
   "execution_count": 4,
   "metadata": {},
   "outputs": [
    {
     "data": {
      "text/plain": [
       "(0, {})"
      ]
     },
     "execution_count": 4,
     "metadata": {},
     "output_type": "execute_result"
    }
   ],
   "source": [
    "TeamCoach.objects.all().delete()"
   ]
  },
  {
   "cell_type": "code",
   "execution_count": null,
   "metadata": {},
   "outputs": [],
   "source": []
  }
 ],
 "metadata": {
  "interpreter": {
   "hash": "e39fe47c2f5daeeb3539bcce781801ca1d1a7422fd8a5c4c70060b45506ff486"
  },
  "kernelspec": {
   "display_name": "Python 3.10.0 ('ncaamm')",
   "language": "python",
   "name": "python3"
  },
  "language_info": {
   "codemirror_mode": {
    "name": "ipython",
    "version": 3
   },
   "file_extension": ".py",
   "mimetype": "text/x-python",
   "name": "python",
   "nbconvert_exporter": "python",
   "pygments_lexer": "ipython3",
   "version": "3.10.0"
  },
  "orig_nbformat": 4
 },
 "nbformat": 4,
 "nbformat_minor": 2
}
